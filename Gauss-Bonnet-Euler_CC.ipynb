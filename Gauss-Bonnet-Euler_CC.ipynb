{
 "cells": [
  {
   "cell_type": "code",
   "execution_count": 2,
   "metadata": {},
   "outputs": [],
   "source": [
    "import pymesh \n",
    "import pymeshlab\n",
    "import numpy as np"
   ]
  },
  {
   "cell_type": "code",
   "execution_count": 1,
   "metadata": {},
   "outputs": [],
   "source": [
    "import pymeshlab\n",
    "\n",
    "\n",
    "def example_load_mesh(Name):\n",
    "   \n",
    "\n",
    "    # create a new MeshSet\n",
    "    ms = pymeshlab.MeshSet()\n",
    "\n",
    "    # load a new mesh in the MeshSet, and sets it as current mesh\n",
    "    # the path of the mesh can be absolute or relative\n",
    "    ms.load_new_mesh(Name)\n",
    "\n",
    "    print(len(ms))  # now ms contains 1 mesh\n",
    "    # instead of len(ms) you can also use:\n",
    "    print(ms.number_meshes())\n",
    "\n",
    "    # load a new mesh, and sets it as current mesh\n",
    "    \n",
    "    # set the first mesh (id 0) as current mesh\n",
    "    ms.set_current_mesh(0)\n",
    "\n",
    "    # print the number of vertices of the current mesh\n",
    "    print(ms.current_mesh().vertex_number())\n",
    "\n",
    "    assert ms.current_mesh().vertex_number() == 19985\n",
    "\n",
    "    \n",
    "  "
   ]
  },
  {
   "cell_type": "code",
   "execution_count": 14,
   "metadata": {},
   "outputs": [],
   "source": []
  },
  {
   "cell_type": "code",
   "execution_count": 3,
   "metadata": {},
   "outputs": [],
   "source": [
    "def calculateAngle(A, B, C):\n",
    "    v1 = A - B\n",
    "    v2 = C - B\n",
    "    theta_rad = np.arccos(np.dot(v1, v2)/(np.linalg.norm(v1) * np.linalg.norm(v2)))\n",
    "\n",
    "    return theta_rad\n",
    "\n",
    "def area(P, Q, R):\n",
    "    A = Q - P\n",
    "    B = R - P\n",
    "    C = np.cross(A, B)\n",
    "    return 0.5*np.linalg.norm(C)\n",
    "\n",
    "\n",
    "def voronoi_area(P, Q, R):\n",
    "    PR =np.linalg.norm(P - R)\n",
    "    PQ = np.linalg.norm(P - Q)\n",
    "    \n",
    "    angleQ = calculateAngle(P, Q, R)\n",
    "    angleR = calculateAngle(P, R, Q)\n",
    "\n",
    "    if(angleQ < np.pi/2 and angleR < np.pi/2 and angleQ + angleR > np.pi/2):\n",
    "        cotQ = 1.0/np.tan(angleQ)\n",
    "        cotR = 1.0/np.tan(angleR)\n",
    "        return (PR*PR*cotQ + PQ*PQ*cotR)/8\n",
    "    elif(angleQ + angleR < np.pi/2):\n",
    "        return area(P, Q, R)/2\n",
    "    else:\n",
    "        return area(P, Q, R)/4\n",
    "\n",
    "\n",
    "def areas_local_mixed_Voronoi_cell(mesh):\n",
    "    vert_matrix = mesh.vertex_matrix()\n",
    "    voronoi_areas = np.zeros(vert_matrix.shape[0])\n",
    "\n",
    "    face_matrix = mesh.face_matrix()\n",
    "    for face in face_matrix:\n",
    "        voronoi_areas[face[0]] += voronoi_area(vert_matrix[face[0]], vert_matrix[face[1]], vert_matrix[face[2]])\n",
    "        voronoi_areas[face[1]] += voronoi_area(vert_matrix[face[1]], vert_matrix[face[0]], vert_matrix[face[2]])\n",
    "        voronoi_areas[face[2]] += voronoi_area(vert_matrix[face[2]], vert_matrix[face[1]], vert_matrix[face[0]])\n",
    "\n",
    "    return voronoi_areas"
   ]
  },
  {
   "cell_type": "code",
   "execution_count": 5,
   "metadata": {},
   "outputs": [
    {
     "name": "stdout",
     "output_type": "stream",
     "text": [
      "[[1102 1107 1114]\n",
      " [1102 1114 1113]\n",
      " [1107 1115 1114]\n",
      " [1113 1114 1092]\n",
      " [1114 1115 1095]\n",
      " [1114 1095 1092]]\n",
      "1102 1107\n",
      "1102 1113\n",
      "1107 1115\n",
      "1113 1092\n",
      "1115 1095\n",
      "1095 1092\n"
     ]
    }
   ],
   "source": [
    "ms = pymeshlab.MeshSet()\n",
    "ms.load_new_mesh(\"face.obj\")\n",
    "ms.set_current_mesh(0)\n",
    "m = ms.current_mesh()\n",
    "face_matrix = m.face_matrix()\n",
    "\n",
    "def faces_of_(v,matriz):\n",
    "    mascara = np.any(matriz == v, axis=1)\n",
    "\n",
    "    # Obtener los tripletes que contienen 'x' utilizando la máscara\n",
    "    tripletes_con_x = matriz[mascara]\n",
    "    \n",
    "    return tripletes_con_x\n",
    "\n",
    "def vertices_incidentes(v,vector):\n",
    "    mascara = (vector != v)\n",
    "    valores_diferentes_a_v = vector[mascara]\n",
    "    return valores_diferentes_a_v\n",
    "\n",
    "\n",
    "\n",
    "print(faces_of_(1114,face_matrix))\n",
    "\n",
    "for faces in faces_of_(1114,face_matrix):\n",
    "    print(vertices_incidentes(1114,faces)[0],vertices_incidentes(1114,faces)[1])\n",
    "\n"
   ]
  },
  {
   "cell_type": "code",
   "execution_count": 43,
   "metadata": {},
   "outputs": [
    {
     "name": "stdout",
     "output_type": "stream",
     "text": [
      "[-4.87024861e-02 -2.20709072e-01 -7.26757949e-01 ...  1.49410497e+02\n",
      "  7.96216448e+02  1.30349015e+03]\n"
     ]
    }
   ],
   "source": [
    "\n",
    "        \n",
    "\n",
    "\n",
    "def gaussian_curvature(mesh):\n",
    "    \n",
    "    #Calculamos el area locales mezcladas de voronoi para cada vertice de \"mesh\"\n",
    "    areas = areas_local_mixed_Voronoi_cell(mesh)\n",
    "    face_matrix = mesh.face_matrix() #matrices de caras y vertices\n",
    "    vert_matrix = mesh.vertex_matrix()\n",
    "    res = np.zeros(vert_matrix.shape[0]) #vector donde guardaremos las val de Curvaturas \n",
    "    \n",
    "    #Cuantos vertices hay en la malla esta dado por num_vertices\n",
    "    num_vertices = vert_matrix.shape[0]\n",
    "\n",
    "    for vertice  in range(num_vertices):\n",
    "        theta_sum = 0\n",
    "        for face in faces_of_(vertice,face_matrix):\n",
    "            A = vert_matrix[vertices_incidentes(vertice,face)[0]]\n",
    "            B = vert_matrix[vertice]\n",
    "            C = vert_matrix[vertices_incidentes(vertice,face)[1]]\n",
    "            theta_sum += calculateAngle(A,B,C)\n",
    "        \n",
    "        res[vertice] = (1/abs(areas[vertice])) * (np.pi*2 - theta_sum) \n",
    "    \n",
    "    return res\n",
    "\n",
    "    \n",
    "     \n",
    "def gaussian_curvature2(mesh):\n",
    "    \n",
    "    #Calculamos el area locales mezcladas de voronoi para cada vertice de \"mesh\"\n",
    "    face_matrix = mesh.face_matrix() #matrices de caras y vertices\n",
    "    vert_matrix = mesh.vertex_matrix()\n",
    "    res = np.zeros(vert_matrix.shape[0]) #vector donde guardaremos las val de Curvaturas \n",
    "    \n",
    "    #Cuantos vertices hay en la malla esta dado por num_vertices\n",
    "    num_vertices = vert_matrix.shape[0]\n",
    "\n",
    "    for vertice  in range(num_vertices):\n",
    "        theta_sum = 0\n",
    "        for face in faces_of_(vertice,face_matrix):\n",
    "            A = vert_matrix[vertices_incidentes(vertice,face)[0]]\n",
    "            B = vert_matrix[vertice]\n",
    "            C = vert_matrix[vertices_incidentes(vertice,face)[1]]\n",
    "            theta_sum += calculateAngle(A,B,C)\n",
    "        \n",
    "        res[vertice] =  np.pi*2 - theta_sum\n",
    "    \n",
    "    return res\n",
    "\n",
    "ms = pymeshlab.MeshSet()\n",
    "\n",
    "    # load a new mesh in the MeshSet, and sets it as current mesh\n",
    "    # the path of the mesh can be absolute or relative\n",
    "ms.load_new_mesh(\"face.obj\")\n",
    "ms.set_current_mesh(0)\n",
    "\n",
    "    \n",
    "curvaturas_gaussianas = gaussian_curvature(ms.current_mesh())\n",
    "\n",
    "print(curvaturas_gaussianas)\n"
   ]
  },
  {
   "cell_type": "code",
   "execution_count": 41,
   "metadata": {},
   "outputs": [
    {
     "name": "stdout",
     "output_type": "stream",
     "text": [
      "4\n"
     ]
    }
   ],
   "source": [
    "\n",
    "\n",
    "def colorize(T):\n",
    "    colors = np.zeros((len(T), 4))\n",
    "    Tmin = np.min(T)\n",
    "    Tmax = np.max(T)\n",
    "\n",
    "    for i in range(len(T)):\n",
    "        if T[i] <= Tmin/500.0:\n",
    "            colors[i] = [0.0, 0.0, 1.0, 1.0]\n",
    "        elif (T[i] > Tmin/500.0 and T[i] <= 0):\n",
    "            colors[i] = [1.0 - T[i]*(500/Tmin), 1.0 - T[i]*(500/Tmin), 1.0, 1.0]\n",
    "        elif (T[i] < Tmax/500.0 and T[i] > 0):\n",
    "            colors[i] = [1.0, 1.0 - T[i]*(500/Tmax), 1.0 - T[i]*(500/Tmax), 1.0]\n",
    "        else:\n",
    "            colors[i] = [1.0, 0.0, 0.0, 1.0]\n",
    "    \n",
    "    return colors\n",
    "\n",
    "# Example usage:\n",
    "T = curvaturas_gaussianas\n",
    "colores = colorize(T)\n",
    "print(colores.shape[1])\n"
   ]
  },
  {
   "cell_type": "code",
   "execution_count": 27,
   "metadata": {},
   "outputs": [
    {
     "name": "stdout",
     "output_type": "stream",
     "text": [
      "False\n"
     ]
    }
   ],
   "source": []
  },
  {
   "cell_type": "code",
   "execution_count": 42,
   "metadata": {},
   "outputs": [],
   "source": [
    "x=ms.current_mesh()\n",
    "m1 = pymeshlab.Mesh(vertex_matrix = x.vertex_matrix(),\n",
    "                    face_matrix   = x.face_matrix(),\n",
    "                    v_color_matrix = colores)\n",
    "\n",
    "ms.add_mesh(m1)\n",
    "ms.save_current_mesh(\"gaussian_curvature_face.obj\")"
   ]
  },
  {
   "cell_type": "code",
   "execution_count": 52,
   "metadata": {},
   "outputs": [
    {
     "name": "stdout",
     "output_type": "stream",
     "text": [
      "334\n"
     ]
    }
   ],
   "source": [
    "seats = pymeshlab.MeshSet()\n",
    "\n",
    "for i in range(1, 400):\n",
    "    numero_archivo = str(i).zfill(4)  # Formatear el número como \"0001\", \"0002\", etc.\n",
    "    nombre_archivo = f\"{numero_archivo}.obj\"\n",
    "    try:\n",
    "        # Intenta procesar el archivo\n",
    "        # Si el archivo no existe, generará una excepción FileNotFoundError\n",
    "        with open(\"assignment2/seats/\"+nombre_archivo, 'r') as archivo:\n",
    "            # Realiza aquí las operaciones que desees con el archivo\n",
    "            seats.load_new_mesh(\"assignment2/seats/\"+nombre_archivo)\n",
    "    except FileNotFoundError:\n",
    "        # El archivo no existe, simplemente pasa a la siguiente iteración\n",
    "        continue\n",
    "\n",
    "real_num_seats = len(seats)\n",
    "print(len(seats))\n"
   ]
  },
  {
   "cell_type": "code",
   "execution_count": 62,
   "metadata": {},
   "outputs": [],
   "source": [
    "X_M = np.zeros(real_num_seats)\n",
    "for i in range(real_num_seats):\n",
    "    seats.set_current_mesh(i)\n",
    "    Curvatura_Gaussiana_seat = gaussian_curvature2(seats.current_mesh())\n",
    "    X_M[i] = round(np.sum(Curvatura_Gaussiana_seat)/(2*np.pi) )\n"
   ]
  },
  {
   "cell_type": "code",
   "execution_count": 63,
   "metadata": {},
   "outputs": [
    {
     "name": "stdout",
     "output_type": "stream",
     "text": [
      "Valor: 2.0, Count: 77\n",
      "Valor: -2.0, Count: 29\n",
      "Valor: -6.0, Count: 58\n",
      "Valor: 0.0, Count: 121\n",
      "Valor: -8.0, Count: 15\n",
      "Valor: -12.0, Count: 4\n",
      "Valor: -14.0, Count: 5\n",
      "Valor: -10.0, Count: 6\n",
      "Valor: -4.0, Count: 19\n"
     ]
    }
   ],
   "source": [
    "#print(X_M)\n",
    "def contar_repeticiones(vector):\n",
    "    # Crear un diccionario para almacenar las cuentas de cada valor\n",
    "    cuentas = {}\n",
    "    \n",
    "    # Contar las repeticiones de cada valor en el vector\n",
    "    for valor in vector:\n",
    "        if valor in cuentas:\n",
    "            cuentas[valor] += 1\n",
    "        else:\n",
    "            cuentas[valor] = 1\n",
    "    \n",
    "    # Imprimir los resultados\n",
    "    for valor, count in cuentas.items():\n",
    "        print(f\"Valor: {valor}, Count: {count}\")\n",
    "\n",
    "contar_repeticiones(X_M)"
   ]
  },
  {
   "cell_type": "code",
   "execution_count": 64,
   "metadata": {},
   "outputs": [
    {
     "name": "stdout",
     "output_type": "stream",
     "text": [
      "[  2.  -2.  -6.  -6.   0.  -8.   2.   0.  -6.   2.   0.   2.   0.   2.\n",
      "  -6.   0. -12.  -6.   2.   0.  -8.  -6.   0. -14. -14.   2.   2.   0.\n",
      "   0.   0.  -2.   0.   0.  -6.  -8.   0.   0.   0.  -8.   0.   2.   0.\n",
      "   2.   2.   0.   0.   0.  -6.  -8.  -6.  -6.   0.   0.   0.   0.   0.\n",
      "   2.   0. -10.   0.  -4.   0.   0.   0.   0.   2.   0.   0.   0.   0.\n",
      "   2.   0.   0.   2.   0.   2.   0. -10.   0.   2.  -6.  -4.  -6.   0.\n",
      "   0.  -6.   2.   0.   0.  -2.  -2.  -4.   0.  -2.  -2.  -6.   0.   2.\n",
      "   2.   2.   0.   2.   2.   0.   2. -12.   2.  -2.  -2.  -2.  -6.  -2.\n",
      "  -6.  -6.  -6.  -6. -14.   0.   0.   0.  -6.  -6.   0.   2.   2.   0.\n",
      "  -4.   0.   0.  -2.  -4.  -4.   0.  -2.  -2.  -6.  -8.   0.   0.  -8.\n",
      "   2.   0.   0.   2.   2.   0.   0.   2.   2.   0. -12.  -6.  -8.   2.\n",
      "  -2.  -2.  -6.  -6. -10.  -6.   0.   0.   0.  -6.  -6.   2.   2.  -4.\n",
      "   0.   0.  -2.  -4.  -4.  -4.   0.  -2.  -6.   0.  -8.   0.   0.   0.\n",
      "  -8.   0.   0.   2.   2.  -8.   0.   2.   0.   2.   2.   2.   2.   0.\n",
      "  -6.  -6.  -8.   2.  -2.  -2.  -6.  -6.  -6. -14.   0.   0.   0.  -6.\n",
      "   2.   2.   2.  -4.   0.   0.  -2.  -4.  -4.   0.   2.   0.   2.   0.\n",
      "   2.   2.   2.   2.   0.  -6.  -6.   2.  -2.  -2.  -6.  -6. -10.  -6.\n",
      "   0.   0. -14.   0.   0.   0.   0.  -6.  -6.   2.   2.   2.   2.   0.\n",
      "  -4.   0.   0.  -2.  -2.  -4.  -4.   2.  -4.   0.  -6.  -8.   0.   0.\n",
      "   0.  -8.   0.   0.   2.   2.   0.   2.   0.   2.   2.   0.   2.  -6.\n",
      "  -6.   2.   2.  -2.  -2.  -2.  -6.  -6.  -6. -10.   0.   0.  -6.  -6.\n",
      "  -6.   2.   2.   2.   0.   0.   0.  -2. -12.  -4.   0.  -6.   0.   0.\n",
      "   0.   2.   2.   0.   2.   2.   0.   2.  -6.  -6.  -8.  -2.  -6. -10.\n",
      "  -6.   0.   0.   0.  -6.  -6.   2.   2.   2.   0.   0.  -4.]\n"
     ]
    }
   ],
   "source": [
    "print(X_M)"
   ]
  }
 ],
 "metadata": {
  "kernelspec": {
   "display_name": "Python 3.9.12 ('base')",
   "language": "python",
   "name": "python3"
  },
  "language_info": {
   "codemirror_mode": {
    "name": "ipython",
    "version": 3
   },
   "file_extension": ".py",
   "mimetype": "text/x-python",
   "name": "python",
   "nbconvert_exporter": "python",
   "pygments_lexer": "ipython3",
   "version": "3.9.12"
  },
  "orig_nbformat": 4,
  "vscode": {
   "interpreter": {
    "hash": "ad2bdc8ecc057115af97d19610ffacc2b4e99fae6737bb82f5d7fb13d2f2c186"
   }
  }
 },
 "nbformat": 4,
 "nbformat_minor": 2
}
